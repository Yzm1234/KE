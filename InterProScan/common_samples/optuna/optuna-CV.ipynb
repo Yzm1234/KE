{
 "cells": [
  {
   "cell_type": "markdown",
   "id": "cf33a5fd-5513-4b03-a537-8d7bf264adc0",
   "metadata": {},
   "source": [
    "### prerequsite: pip install kaleido optuna"
   ]
  },
  {
   "cell_type": "code",
   "execution_count": 1,
   "id": "216215bd-95f5-4980-a28e-ac7dd5efecf2",
   "metadata": {},
   "outputs": [
    {
     "name": "stderr",
     "output_type": "stream",
     "text": [
      "/global/homes/z/zimingy/.local/lib/python3.8/site-packages/statsmodels/compat/pandas.py:61: FutureWarning: pandas.Int64Index is deprecated and will be removed from pandas in a future version. Use pandas.Index with the appropriate dtype instead.\n",
      "  from pandas import Int64Index as NumericIndex\n"
     ]
    }
   ],
   "source": [
    "import catboost as cb\n",
    "import category_encoders as ce\n",
    "import json\n",
    "import numpy as np\n",
    "import optuna\n",
    "import os\n",
    "import pandas as pd\n",
    "\n",
    "from sklearn import preprocessing\n",
    "from lib.clean import clean\n",
    "from lib.data_prepare import data_prepare\n",
    "from catboost import CatBoostClassifier, Pool, cv\n",
    "from sklearn.metrics import precision_recall_curve\n",
    "from lib.plot import plot\n",
    "from lib.stats import stats\n",
    "from sklearn.metrics import classification_report\n",
    "from pathlib import Path\n",
    "from sklearn.model_selection import StratifiedKFold, KFold\n",
    "from optuna.visualization import plot_contour\n",
    "from optuna.visualization import plot_edf\n",
    "from optuna.visualization import plot_intermediate_values\n",
    "from optuna.visualization import plot_optimization_history\n",
    "from optuna.visualization import plot_parallel_coordinate\n",
    "from optuna.visualization import plot_param_importances\n",
    "from optuna.visualization import plot_slice\n",
    "from sklearn.datasets import load_breast_cancer\n",
    "from sklearn.metrics import accuracy_score\n",
    "from sklearn.model_selection import train_test_split\n",
    "\n",
    "\n",
    "def objective(trial: optuna.Trial):\n",
    "    file_path = \"/global/cfs/cdirs/kbase/KE-Catboost/ziming/InterProScan/common_samples/data/go/go_aggregate_4.1_rm30_corr0.9.pkl\"\n",
    "    df = pd.read_pickle(file_path)\n",
    "    X = df.iloc[:, 1:]\n",
    "    y = df['biome']\n",
    "\n",
    "    param = {\n",
    "        \"objective\": trial.suggest_categorical(\"objective\", [\"MultiClassOneVsAll\", \"MultiClass\"]),\n",
    "        \"depth\": trial.suggest_int(\"depth\", 4, 6, step=2), #Maximum tree depth is 16\n",
    "        \"learning_rate\": trial.suggest_float(\"learning_rate\", 0.1, 0.2, step=0.05),\n",
    "        # \"l2_leaf_reg\": trial.suggest_int(\"l2_leaf_reg\", 1, 5, step=1),\n",
    "        # \"random_strength\": trial.suggest_int(\"random_strength\", 1, 5, step=1),\n",
    "        # \"bagging_temperature\": trial.suggest_int(\"bagging_temperature\", 0, 5, step=1),\n",
    "         # \"grow_policy\": trial.suggest_categorical(\"grow_policy\", [\"SymmetricTree\", \"Depthwise\", \"Lossguide\"])\n",
    "    }\n",
    "    \n",
    "    fold=5\n",
    "    skf = StratifiedKFold(n_splits=fold)#, random_state=42)\n",
    "    acc_test = []\n",
    "    for train_val, test in skf.split(X, y):\n",
    "        X_train_val, y_train_val = X.iloc[train_val], y.iloc[train_val]\n",
    "        X_test, y_test = X.iloc[test], y.iloc[test]\n",
    "        X_train, X_val, y_train, y_val = train_test_split(X_train_val, y_train_val, random_state=42, test_size=0.22, stratify=y_train_val) \n",
    "        # If not None, data is split in a stratified fashion\n",
    "        # Setting a random_state has no effect since shuffle is False. You should leave random_state to its default (None), or set shuffle=True.\n",
    "        # 1. train pool\n",
    "        X_train_pool = Pool(\n",
    "            data=X_train,\n",
    "            label=y_train,\n",
    "        )\n",
    "        X_val_pool = Pool(\n",
    "            data=X_val,\n",
    "            label=y_val,\n",
    "        )\n",
    "        # 2. Init the model\n",
    "        gbm = cb.CatBoostClassifier(\n",
    "            custom_metric='Accuracy',\n",
    "            random_seed=42,\n",
    "            task_type=\"GPU\",\n",
    "            **param)\n",
    "            \n",
    "        # 3. training\n",
    "        gbm.fit(X_train_pool, eval_set=X_val_pool, verbose=0, early_stopping_rounds=100)\n",
    "        \n",
    "        # 4. predict\n",
    "        preds = gbm.predict(X_test)\n",
    "        acc = accuracy_score(y_test, preds)\n",
    "        acc_test.append(acc)\n",
    "\n",
    "    return sum(acc_test)/fold"
   ]
  },
  {
   "cell_type": "code",
   "execution_count": null,
   "id": "61761644-c40f-4e91-a7e1-5234404047fb",
   "metadata": {},
   "outputs": [
    {
     "name": "stderr",
     "output_type": "stream",
     "text": [
      "\u001b[32m[I 2022-09-30 14:38:22,330]\u001b[0m Using an existing study with name 'go_optuna_cv' instead of creating a new one.\u001b[0m\n",
      "\u001b[32m[I 2022-09-30 14:41:06,723]\u001b[0m Trial 1 finished with value: 0.7775360920567158 and parameters: {'objective': 'MultiClassOneVsAll', 'depth': 6, 'learning_rate': 0.1}. Best is trial 1 with value: 0.7775360920567158.\u001b[0m\n",
      "\u001b[32m[I 2022-09-30 14:42:27,538]\u001b[0m Trial 2 finished with value: 0.7769265816683284 and parameters: {'objective': 'MultiClassOneVsAll', 'depth': 4, 'learning_rate': 0.2}. Best is trial 1 with value: 0.7775360920567158.\u001b[0m\n",
      "\u001b[32m[I 2022-09-30 14:45:12,118]\u001b[0m Trial 3 finished with value: 0.775650685536083 and parameters: {'objective': 'MultiClassOneVsAll', 'depth': 6, 'learning_rate': 0.2}. Best is trial 1 with value: 0.7775360920567158.\u001b[0m\n",
      "\u001b[32m[I 2022-09-30 14:48:13,169]\u001b[0m Trial 4 finished with value: 0.7725480236005862 and parameters: {'objective': 'MultiClass', 'depth': 6, 'learning_rate': 0.1}. Best is trial 1 with value: 0.7775360920567158.\u001b[0m\n"
     ]
    }
   ],
   "source": [
    "study_name = \"go_optuna_cv\"  # Unique identifier of the study.\n",
    "study = optuna.create_study(direction=\"maximize\",study_name=study_name, storage=\"sqlite:///{}.db\".format(study_name),load_if_exists=True)\n",
    "study.optimize(objective, n_trials=5)"
   ]
  },
  {
   "cell_type": "code",
   "execution_count": null,
   "id": "e6ee361b-c703-4f7c-81ec-09105c10d187",
   "metadata": {},
   "outputs": [],
   "source": [
    "# save best params to json file\n",
    "output_dir = \"{}_output/\".format(study_name)\n",
    "Path(output_dir).mkdir(parents=True, exist_ok=True)\n",
    "with open(os.path.join(output_dir, 'best_params.json'), 'w') as fp:\n",
    "    json.dump(study.best_params, fp)"
   ]
  },
  {
   "cell_type": "code",
   "execution_count": null,
   "id": "8a03bd5e-e3fe-4c9c-81ff-2b7c0c089ec9",
   "metadata": {},
   "outputs": [],
   "source": [
    "# save parallel plot of result\n",
    "parallel_plot = plot_parallel_coordinate(study)\n",
    "parallel_plot.write_image(os.path.join(output_dir, \"{}_parallel_plot.png\".format(study_name)))\n",
    "parallel_plot.show()"
   ]
  },
  {
   "cell_type": "code",
   "execution_count": null,
   "id": "a8bf621b-193b-4295-9de8-597db95c033c",
   "metadata": {},
   "outputs": [],
   "source": [
    "# save contour plot of result\n",
    "contour_plot = plot_contour(study)\n",
    "contour_plot.write_image(os.path.join(output_dir, \"{}_contour_plot.png\".format(study_name)))\n",
    "contour_plot.show()"
   ]
  },
  {
   "cell_type": "code",
   "execution_count": null,
   "id": "9879710d-c892-4ab1-be20-2274b8dcec79",
   "metadata": {},
   "outputs": [],
   "source": []
  }
 ],
 "metadata": {
  "kernelspec": {
   "display_name": "Python 3",
   "language": "python",
   "name": "python3"
  },
  "language_info": {
   "codemirror_mode": {
    "name": "ipython",
    "version": 3
   },
   "file_extension": ".py",
   "mimetype": "text/x-python",
   "name": "python",
   "nbconvert_exporter": "python",
   "pygments_lexer": "ipython3",
   "version": "3.8.5"
  }
 },
 "nbformat": 4,
 "nbformat_minor": 5
}
