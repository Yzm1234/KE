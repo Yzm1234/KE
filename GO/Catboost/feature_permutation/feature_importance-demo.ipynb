{
 "cells": [
  {
   "cell_type": "markdown",
   "id": "135c75ce-5f15-4a28-b853-9a9c626e6c2d",
   "metadata": {},
   "source": [
    "### feature importance analysis"
   ]
  },
  {
   "cell_type": "code",
   "execution_count": 1,
   "id": "d1011e28-1256-476f-96c4-3f476c975708",
   "metadata": {},
   "outputs": [],
   "source": [
    "## import packages\n",
    "import os\n",
    "import random\n",
    "import pandas as pd\n",
    "from sklearn.model_selection import train_test_split\n",
    "from sklearn import metrics\n",
    "from sklearn.metrics import accuracy_score, plot_confusion_matrix\n",
    "import catboost\n",
    "from catboost import CatBoostClassifier, Pool, cv, CatBoostError\n",
    "import numpy as np\n",
    "from sklearn.preprocessing import MinMaxScaler\n",
    "from sklearn.metrics import confusion_matrix\n",
    "import seaborn as sns\n",
    "import shap\n",
    "import pickle\n",
    "import matplotlib.colors as colors\n",
    "from sklearn.metrics import classification_report\n",
    "from catboost.utils import get_confusion_matrix\n",
    "from sklearn.metrics import precision_recall_fscore_support\n",
    "from lib.model_analysis import model_analysis\n",
    "import matplotlib.pyplot as plt "
   ]
  },
  {
   "cell_type": "code",
   "execution_count": 2,
   "id": "b598c1d7-1adf-427f-a0bc-8688717c34f0",
   "metadata": {},
   "outputs": [],
   "source": [
    "param = {'loss_function':'MultiClass',\n",
    "    'custom_metric':'Accuracy',\n",
    "    'learning_rate':0.15,\n",
    "    'random_seed':42,\n",
    "    'l2_leaf_reg':3,\n",
    "    'iterations':2000,}"
   ]
  },
  {
   "cell_type": "code",
   "execution_count": 5,
   "id": "423bb3fd-af6a-4550-9275-fdd82ceaedf7",
   "metadata": {},
   "outputs": [],
   "source": [
    "model_analysis.get_feature_importance(param, \n",
    "                       model_path='/global/cfs/cdirs/kbase/KE-Catboost/ziming/GO/Catboost/feature_permutation/86_features_training/model.json',\n",
    "                      shap_values_path='/global/cfs/cdirs/kbase/KE-Catboost/ziming/GO/Catboost/feature_permutation/86_features_training/shap_values.pkl',\n",
    "                      test_set_path='/global/cfs/cdirs/kbase/KE-Catboost/ziming/GO/Catboost/feature_permutation/86_features_training/splitted_dataset/test_set/test_set.pkl')"
   ]
  },
  {
   "cell_type": "code",
   "execution_count": null,
   "id": "42fd68bc-f0a2-40fb-8a5c-c89b5bfad3a5",
   "metadata": {},
   "outputs": [],
   "source": []
  }
 ],
 "metadata": {
  "kernelspec": {
   "display_name": "Python 3",
   "language": "python",
   "name": "python3"
  },
  "language_info": {
   "codemirror_mode": {
    "name": "ipython",
    "version": 3
   },
   "file_extension": ".py",
   "mimetype": "text/x-python",
   "name": "python",
   "nbconvert_exporter": "python",
   "pygments_lexer": "ipython3",
   "version": "3.8.5"
  }
 },
 "nbformat": 4,
 "nbformat_minor": 5
}
