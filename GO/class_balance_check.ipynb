{
 "cells": [
  {
   "cell_type": "code",
   "execution_count": 1,
   "metadata": {},
   "outputs": [],
   "source": [
    "import pandas as pd\n",
    "import os"
   ]
  },
  {
   "cell_type": "markdown",
   "metadata": {},
   "source": [
    "### This script removes the rows whoes biome frequence is too low, because they are not able to apper both in training and validation dataset"
   ]
  },
  {
   "cell_type": "code",
   "execution_count": 2,
   "metadata": {},
   "outputs": [],
   "source": [
    "scaled_file = '../data/go_aggregated_run_assembly_scaled.pickle'\n",
    "if os.path.exists(scaled_file):\n",
    "    df = pd.read_pickle(scaled_file)"
   ]
  },
  {
   "cell_type": "code",
   "execution_count": 3,
   "metadata": {},
   "outputs": [
    {
     "data": {
      "text/plain": [
       "0        root:Host-associated:Mammals:Respiratory syste...\n",
       "1        root:Host-associated:Mammals:Respiratory syste...\n",
       "2        root:Host-associated:Mammals:Respiratory syste...\n",
       "3        root:Host-associated:Mammals:Respiratory syste...\n",
       "4        root:Host-associated:Mammals:Respiratory syste...\n",
       "                               ...                        \n",
       "64598    root:Environmental:Aquatic:Freshwater:Ice:Glacier\n",
       "64599    root:Environmental:Aquatic:Freshwater:Ice:Glacier\n",
       "64600    root:Environmental:Aquatic:Freshwater:Ice:Glacier\n",
       "64601    root:Environmental:Aquatic:Freshwater:Ice:Glacier\n",
       "64602    root:Environmental:Aquatic:Freshwater:Ice:Glacier\n",
       "Name: biome, Length: 64603, dtype: object"
      ]
     },
     "execution_count": 3,
     "metadata": {},
     "output_type": "execute_result"
    }
   ],
   "source": [
    "y = df.loc[:, 'biome']\n",
    "y"
   ]
  },
  {
   "cell_type": "code",
   "execution_count": 4,
   "metadata": {},
   "outputs": [
    {
     "data": {
      "text/plain": [
       "<BarContainer object of 204 artists>"
      ]
     },
     "execution_count": 4,
     "metadata": {},
     "output_type": "execute_result"
    }
   ],
   "source": [
    "import collections\n",
    "import matplotlib.pyplot as plt\n",
    "freq = collections.Counter(y) \n",
    "plt.bar(freq.keys(), freq.values())"
   ]
  },
  {
   "cell_type": "code",
   "execution_count": 5,
   "metadata": {
    "scrolled": true
   },
   "outputs": [
    {
     "data": {
      "text/plain": [
       "{'root:Host-associated:Human:Digestive system:Large intestine:Fecal': 20343,\n",
       " 'root:Host-associated:Human:Digestive system': 4829,\n",
       " 'root:Mixed': 4174,\n",
       " 'root:Host-associated:Human:Skin': 3264,\n",
       " 'root:Environmental:Terrestrial:Soil': 3152,\n",
       " 'root:Host-associated:Human:Digestive system:Large intestine': 2458,\n",
       " 'root:Environmental:Aquatic:Marine': 2331,\n",
       " 'root:Host-associated:Plants': 1922,\n",
       " 'root:Host-associated:Human': 1401,\n",
       " 'root:Environmental:Aquatic:Marine:Oceanic': 1393,\n",
       " 'root:Host-associated:Human:Digestive system:Large intestine:Sigmoid colon': 1172,\n",
       " 'root:Host-associated:Mammals:Digestive system:Fecal': 1010,\n",
       " 'root:Host-associated:Mammals:Digestive system:Large intestine:Fecal': 981,\n",
       " 'root:Host-associated:Mammals:Digestive system': 980,\n",
       " 'root:Host-associated:Birds:Digestive system:Ceca': 753,\n",
       " 'root:Host-associated:Birds': 695,\n",
       " 'root:Host-associated:Animal:Digestive system:Fecal': 670,\n",
       " 'root:Environmental:Terrestrial:Soil:Agricultural': 629,\n",
       " 'root:Environmental:Aquatic:Freshwater:Lake': 549,\n",
       " 'root:Host-associated:Human:Digestive system:Oral:Saliva': 479,\n",
       " 'root:Host-associated:Human:Digestive system:Oral': 421,\n",
       " 'root:Engineered:Bioreactor': 401,\n",
       " 'root:Environmental:Terrestrial:Soil:Forest soil': 381,\n",
       " 'root:Environmental:Aquatic:Sediment': 376,\n",
       " 'root:Engineered:Wastewater': 346,\n",
       " 'root:Environmental:Aquatic:Marine:Pelagic': 338,\n",
       " 'root:Host-associated:Algae': 329,\n",
       " 'root:Host-associated:Human:Digestive system:Intestine': 316,\n",
       " 'root:Host-associated:Birds:Digestive system:Digestive tube:Cecum': 315,\n",
       " 'root:Environmental:Aquatic:Marine:Oceanic:Photic zone': 294,\n",
       " 'root:Host-associated:Animal': 287,\n",
       " 'root:Host-associated:Plants:Rhizosphere': 284,\n",
       " 'root:Host-associated:Mammals:Digestive system:Stomach:Rumen': 281,\n",
       " 'root:Engineered:Wastewater:Activated Sludge': 260,\n",
       " 'root:Environmental:Aquatic:Marine:Coastal:Sediment': 260,\n",
       " 'root:Engineered:Wastewater:Water and sludge': 255,\n",
       " 'root:Host-associated:Mammals': 228,\n",
       " 'root:Host-associated:Mammals:Gastrointestinal tract:Intestine:Fecal': 220,\n",
       " 'root:Environmental:Aquatic:Marine:Sediment': 213,\n",
       " 'root:Host-associated:Plants:Rhizosphere:Soil': 193,\n",
       " 'root:Host-associated:Mammals:Skin': 191,\n",
       " 'root:Host-associated:Mammals:Digestive system:Foregut:Rumen': 185,\n",
       " 'root:Environmental:Aquatic:Marine:Hydrothermal vents': 179,\n",
       " 'root:Host-associated:Insecta': 176,\n",
       " 'root:Host-associated:Birds:Digestive system': 170,\n",
       " 'root:Engineered:Food production:Dairy products': 141,\n",
       " 'root:Host-associated:Birds:Digestive system:Fecal': 134,\n",
       " 'root:Host-associated:Human:Skin:Naris': 120,\n",
       " 'root:Host-associated:Mammals:Respiratory system:Nasopharyngeal': 114,\n",
       " 'root:Environmental:Aquatic:Thermal springs:Hot (42-90C)': 114,\n",
       " 'root:Environmental:Terrestrial:Soil:Permafrost': 107,\n",
       " 'root:Engineered:Food production:Fermented beverages': 101,\n",
       " 'root:Engineered:Food production': 99,\n",
       " 'root:Host-associated:Reptile': 98,\n",
       " 'root:Engineered:Bioremediation:Terephthalate:Wastewater': 92,\n",
       " 'root:Engineered:Built environment': 92,\n",
       " 'root:Environmental:Aquatic:Freshwater:Sediment': 89,\n",
       " 'root:Environmental:Aquatic:Marine:Intertidal zone:Coral reef': 89,\n",
       " 'root:Environmental:Aquatic:Freshwater:Ice:Glacial lake': 89,\n",
       " 'root:Environmental:Aquatic:Marine:Intertidal zone:Estuary': 87,\n",
       " 'root:Engineered:Modeled:Simulated communities (microbial mixture)': 82,\n",
       " 'root:Host-associated:Human:Digestive system:Hindgut:Rectum': 82,\n",
       " 'root:Host-associated:Mammals:Digestive system:Large intestine': 78,\n",
       " 'root:Environmental:Terrestrial:Soil:Tropical rainforest': 77,\n",
       " 'root:Environmental:Terrestrial:Soil:Grasslands': 75,\n",
       " 'root:Host-associated:Plants:Phylloplane': 74,\n",
       " 'root:Host-associated:Mammals:Milk': 72,\n",
       " 'root:Environmental:Aquatic:Marine:Oceanic:Sediment': 71,\n",
       " 'root:Environmental:Aquatic:Marine:Coastal': 69,\n",
       " 'root:Environmental:Aquatic:Marine:Oil-contaminated sediment': 68,\n",
       " 'root:Host-associated:Mammals:Respiratory system': 67,\n",
       " 'root:Environmental:Aquatic:Lentic:Brackish': 62,\n",
       " 'root:Host-associated:Human:Respiratory system:Pulmonary system:Sputum': 61,\n",
       " 'root:Engineered:Solid waste:Composting': 57,\n",
       " 'root:Environmental:Terrestrial:Soil:Contaminated': 56,\n",
       " 'root:Host-associated:Human:Reproductive system:Vagina': 55,\n",
       " 'root:Environmental:Aquatic': 55,\n",
       " 'root:Environmental:Terrestrial:Agricultural field': 52,\n",
       " 'root:Environmental:Terrestrial:Geologic': 50,\n",
       " 'root:Environmental:Aquatic:Freshwater': 49,\n",
       " 'root:Environmental:Terrestrial:Soil:Loam:Agricultural': 49,\n",
       " 'root:Environmental:Aquatic:Non-marine Saline and Alkaline:Salt crystallizer pond': 46,\n",
       " 'root:Engineered:Wastewater:Industrial wastewater': 45,\n",
       " 'root:Host-associated:Arthropoda': 41,\n",
       " 'root:Environmental:Aquatic:Estuary:Sediment': 40,\n",
       " 'root:Environmental:Terrestrial:Soil:Oil-contaminated': 39,\n",
       " 'root:Host-associated:Birds:Respiratory system': 39,\n",
       " 'root:Host-associated': 36,\n",
       " 'root:Engineered': 36,\n",
       " 'root:Environmental:Aquatic:Estuary': 36,\n",
       " 'root:Environmental:Terrestrial:Soil:Wetlands': 35,\n",
       " 'root:Host-associated:Human:Respiratory system:Pulmonary system:Lung': 33,\n",
       " 'root:Environmental:Aquatic:Marine:Intertidal zone:Salt marsh': 32,\n",
       " 'root:Environmental:Terrestrial:Soil:Sand': 32,\n",
       " 'root:Environmental:Terrestrial:Soil:Desert': 31,\n",
       " 'root:Environmental:Aquatic:Lentic': 30,\n",
       " 'root:Host-associated:Porifera': 29,\n",
       " 'root:Environmental:Aquatic:Freshwater:Lentic:Sediment': 29,\n",
       " 'root:Environmental:Aquatic:Freshwater:Ice:Glacier': 29,\n",
       " 'root:Environmental:Terrestrial:Soil:Sand:Oil-contaminated': 29,\n",
       " 'root:Host-associated:Fish:Digestive system:Foregut': 28,\n",
       " 'root:Environmental:Aquatic:Freshwater:Groundwater:Acid Mine Drainage': 26,\n",
       " 'root:Environmental:Aquatic:Freshwater:Lentic': 25,\n",
       " 'root:Host-associated:Mammals:Digestive system:Midgut': 24,\n",
       " 'root:Environmental:Aquatic:Marine:Hydrothermal vents:Diffuse flow': 24,\n",
       " 'root:Environmental:Terrestrial:Soil:Clay': 24,\n",
       " 'root:Host-associated:Invertebrates:Cnidaria:Coral': 23,\n",
       " 'root:Environmental:Terrestrial:Soil:Loam:Forest soil': 23,\n",
       " 'root:Environmental:Aquatic:Freshwater:Drinking water': 22,\n",
       " 'root:Environmental:Aquatic:Freshwater:Groundwater:Contaminated': 22,\n",
       " 'root:Host-associated:Human:Circulatory system': 21,\n",
       " 'root:Environmental:Aquatic:Freshwater:Groundwater': 20,\n",
       " 'root:Engineered:Modeled:Simulated communities (sequence read mixture)': 20,\n",
       " 'root:Host-associated:Animal:Digestive system': 19,\n",
       " 'root:Environmental:Aquatic:Marine:Hydrothermal vents:Microbial mats': 19,\n",
       " 'root:Host-associated:Human:Excretory system:Urethra:Urine': 19,\n",
       " 'root:Engineered:Biogas plant:Wet fermentation': 18,\n",
       " 'root:Environmental:Terrestrial:Rock-dwelling (subaerial biofilm)': 18,\n",
       " 'root:Host-associated:Arthropoda:Digestive system:Gut': 18,\n",
       " 'root:Engineered:Lab enrichment:Defined media': 17,\n",
       " 'root:Host-associated:Birds:Digestive system:Digestive tube': 17,\n",
       " 'root:Host-associated:Plants:Rhizosphere:Forest soil': 15,\n",
       " 'root:Engineered:Modeled:Simulated communities (DNA mixture)': 15,\n",
       " 'root:Engineered:Wastewater:Industrial wastewater:Petrochemical': 15,\n",
       " 'root:Host-associated:Mammals:Nervous system:Brain': 14,\n",
       " 'root:Environmental:Aquatic:Marine:Oceanic:Aphotic zone': 14,\n",
       " 'root:Environmental:Aquatic:Marine:Intertidal zone:Sediment': 13,\n",
       " 'root:Engineered:Bioreactor:Continuous culture:Marine intertidal flat sediment inoculum': 13,\n",
       " 'root:Environmental:Aquatic:Aquaculture': 13,\n",
       " 'root:Environmental:Aquatic:Marine:Intertidal zone': 13,\n",
       " 'root:Environmental:Aquatic:Marine:Brackish': 12,\n",
       " 'root:Environmental:Aquatic:Non-marine Saline and Alkaline:Hypersaline': 12,\n",
       " 'root:Engineered:Modeled': 12,\n",
       " 'root:Environmental:Terrestrial:Soil:Loam': 12,\n",
       " 'root:Host-associated:Human:Lympathic system:Lymph nodes': 12,\n",
       " 'root:Environmental:Aquatic:Marine:Hydrothermal vents:Sediment': 12,\n",
       " 'root:Host-associated:Mammals:Gastrointestinal tract:Intestine': 12,\n",
       " 'root:Host-associated:Algae:Brown Algae': 12,\n",
       " 'root:Environmental:Aquatic:Freshwater:Lotic:Low land river systems': 11,\n",
       " 'root:Environmental:Aquatic:Freshwater:Lotic:Sediment': 9,\n",
       " 'root:Host-associated:Algae:Red algae': 9,\n",
       " 'root:Environmental:Aquatic:Marine:Oceanic:Oil-contaminated': 9,\n",
       " 'root:Environmental': 8,\n",
       " 'root:Environmental:Aquatic:Freshwater:Groundwater:Mine drainage': 8,\n",
       " 'root:Host-associated:Mammals:Digestive system:Oral cavity:Buccal mucosa': 8,\n",
       " 'root:Engineered:Biogas plant': 7,\n",
       " 'root:Environmental:Aquatic:Thermal springs:Sediment': 7,\n",
       " 'root:Host-associated:Arthropoda:Digestive system:Oral:Saliva': 7,\n",
       " 'root:Engineered:Food production:Fermented vegetables': 7,\n",
       " 'root:Environmental:Aquatic:Marine:Hydrothermal vents:Black smokers': 7,\n",
       " 'root:Host-associated:Human:Digestive system:Oral:Subgingival plaque': 7,\n",
       " 'root:Environmental:Aquatic:Freshwater:Groundwater:Cave water': 7,\n",
       " 'root:Engineered:Bioreactor:Continuous culture:Marine sediment inoculum:Wadden Sea-Germany': 7,\n",
       " 'root:Host-associated:Microbial:Bacteria': 6,\n",
       " 'root:Environmental:Aquatic:Freshwater:Pond': 6,\n",
       " 'root:Host-associated:Insecta:Digestive system': 6,\n",
       " 'root:Environmental:Aquatic:Non-marine Saline and Alkaline:Saline:Microbial mats': 6,\n",
       " 'root:Environmental:Terrestrial:Soil:Mine': 6,\n",
       " 'root:Engineered:Lab enrichment': 5,\n",
       " 'root:Engineered:Biotransformation:Mixed alcohol bioreactor': 5,\n",
       " 'root:Environmental:Aquatic:Freshwater:Pond:Sediment': 5,\n",
       " 'root:Environmental:Aquatic:Marine:Intertidal zone:Microbialites': 5,\n",
       " 'root:Host-associated:Fish:Skin': 5,\n",
       " 'root:Host-associated:Spiralia': 4,\n",
       " 'root:Host-associated:Plants:Root': 4,\n",
       " 'root:Engineered:Bioreactor:Continuous culture:Marine intertidal flat sediment inoculum:Wadden Sea-Germany': 4,\n",
       " 'root:Engineered:Wastewater:Nutrient removal:Dissolved organics (anaerobic)': 4,\n",
       " 'root:Environmental:Terrestrial:Soil:Sand:Desert': 4,\n",
       " 'root:Engineered:Bioreactor:Continuous culture': 4,\n",
       " 'root:Engineered:Solid waste:Composting:Grass': 3,\n",
       " 'root:Host-associated:Human:Circulatory system:Blood': 3,\n",
       " 'root:Environmental:Aquatic:Freshwater:Drinking water:Delivery networks': 3,\n",
       " 'root:Host-associated:Mollusca': 3,\n",
       " 'root:Environmental:Aquatic:Thermal springs': 3,\n",
       " 'root:Environmental:Aquatic:Freshwater:Lotic': 3,\n",
       " 'root:Environmental:Aquatic:Non-marine Saline and Alkaline:Alkaline': 2,\n",
       " 'root:Engineered:Wastewater:Industrial wastewater:Agricultural wastewater': 2,\n",
       " 'root:Host-associated:Annelida': 2,\n",
       " 'root:Environmental:Aquatic:Thermal springs:Near-boiling (>90C):Alkaline': 2,\n",
       " 'root:Engineered:Lab Synthesis:Genetic cross': 2,\n",
       " 'root:Host-associated:Mammals:Digestive system:Large intestine:Cecum': 2,\n",
       " 'root:Engineered:Biotransformation': 2,\n",
       " 'root:Environmental:Aquatic:Non-marine Saline and Alkaline:Alkaline:Sediment': 2,\n",
       " 'root:Environmental:Aquatic:Freshwater:Wetlands': 2,\n",
       " 'root:Environmental:Terrestrial': 2,\n",
       " 'root:Host-associated:Human:Respiratory system:Pulmonary system': 2,\n",
       " 'root:Host-associated:Invertebrates': 2,\n",
       " 'root:Engineered:Bioremediation:Hydrocarbon': 2,\n",
       " 'root:Host-associated:Plants:Rhizoplane:Endophytes': 1,\n",
       " 'root:Host-associated:Mammals:Respiratory system:Pulmonary system': 1,\n",
       " 'root:Environmental:Terrestrial:Soil:Crop:Agricultural land': 1,\n",
       " 'root:Engineered:Wastewater:Nutrient removal:Biological phosphorus removal:Activated sludge': 1,\n",
       " 'root:Engineered:Wastewater:Nutrient removal:Nitrogen removal': 1,\n",
       " 'root:Engineered:Bioremediation': 1,\n",
       " 'root:Environmental:Aquatic:Marine:Oil field:bore hole': 1,\n",
       " 'root:Environmental:Air': 1,\n",
       " 'root:Host-associated:Human:Digestive system:Oral:tongue dorsum': 1,\n",
       " 'root:Environmental:Aquatic:Freshwater:Lotic:Acidic': 1,\n",
       " 'root:Host-associated:Protozoa': 1,\n",
       " 'root': 1,\n",
       " 'root:Environmental:Aquatic:Marine:Intertidal zone:Oil-contaminated': 1,\n",
       " 'root:Engineered:Solid waste:Composting:Bioreactor': 1,\n",
       " 'root:Host-associated:Microbial': 1,\n",
       " 'root:Engineered:Solid waste:Landfill': 1}"
      ]
     },
     "execution_count": 5,
     "metadata": {},
     "output_type": "execute_result"
    }
   ],
   "source": [
    "{k: v for k, v in sorted(freq.items(), reverse=True, key=lambda item: item[1])}"
   ]
  },
  {
   "cell_type": "code",
   "execution_count": 6,
   "metadata": {},
   "outputs": [
    {
     "data": {
      "text/plain": [
       "64603"
      ]
     },
     "execution_count": 6,
     "metadata": {},
     "output_type": "execute_result"
    }
   ],
   "source": [
    "len(y)"
   ]
  },
  {
   "cell_type": "code",
   "execution_count": 7,
   "metadata": {},
   "outputs": [
    {
     "data": {
      "text/plain": [
       "0.31489249725244955"
      ]
     },
     "execution_count": 7,
     "metadata": {},
     "output_type": "execute_result"
    }
   ],
   "source": [
    "20343/len(y)"
   ]
  },
  {
   "cell_type": "code",
   "execution_count": 8,
   "metadata": {},
   "outputs": [],
   "source": [
    "low_freq_biomes = []\n",
    "for k, v in freq.items():\n",
    "    if v == 4 or v == 1 or v == 2 or v ==3:\n",
    "        low_freq_biomes.append(k)"
   ]
  },
  {
   "cell_type": "code",
   "execution_count": 9,
   "metadata": {},
   "outputs": [
    {
     "data": {
      "text/plain": [
       "['root:Environmental:Aquatic:Non-marine Saline and Alkaline:Alkaline',\n",
       " 'root:Engineered:Wastewater:Industrial wastewater:Agricultural wastewater',\n",
       " 'root:Host-associated:Plants:Rhizoplane:Endophytes',\n",
       " 'root:Host-associated:Mammals:Respiratory system:Pulmonary system',\n",
       " 'root:Host-associated:Annelida',\n",
       " 'root:Engineered:Solid waste:Composting:Grass',\n",
       " 'root:Environmental:Terrestrial:Soil:Crop:Agricultural land',\n",
       " 'root:Host-associated:Spiralia',\n",
       " 'root:Host-associated:Human:Circulatory system:Blood',\n",
       " 'root:Engineered:Wastewater:Nutrient removal:Biological phosphorus removal:Activated sludge',\n",
       " 'root:Environmental:Aquatic:Freshwater:Drinking water:Delivery networks',\n",
       " 'root:Host-associated:Plants:Root',\n",
       " 'root:Engineered:Wastewater:Nutrient removal:Nitrogen removal',\n",
       " 'root:Engineered:Bioreactor:Continuous culture:Marine intertidal flat sediment inoculum:Wadden Sea-Germany',\n",
       " 'root:Engineered:Bioremediation',\n",
       " 'root:Environmental:Aquatic:Marine:Oil field:bore hole',\n",
       " 'root:Environmental:Air',\n",
       " 'root:Host-associated:Mollusca',\n",
       " 'root:Environmental:Aquatic:Thermal springs:Near-boiling (>90C):Alkaline',\n",
       " 'root:Engineered:Wastewater:Nutrient removal:Dissolved organics (anaerobic)',\n",
       " 'root:Engineered:Lab Synthesis:Genetic cross',\n",
       " 'root:Host-associated:Mammals:Digestive system:Large intestine:Cecum',\n",
       " 'root:Environmental:Aquatic:Thermal springs',\n",
       " 'root:Engineered:Biotransformation',\n",
       " 'root:Host-associated:Human:Digestive system:Oral:tongue dorsum',\n",
       " 'root:Environmental:Aquatic:Freshwater:Lotic',\n",
       " 'root:Environmental:Aquatic:Freshwater:Lotic:Acidic',\n",
       " 'root:Environmental:Aquatic:Non-marine Saline and Alkaline:Alkaline:Sediment',\n",
       " 'root:Environmental:Terrestrial:Soil:Sand:Desert',\n",
       " 'root:Host-associated:Protozoa',\n",
       " 'root:Environmental:Aquatic:Freshwater:Wetlands',\n",
       " 'root:Environmental:Terrestrial',\n",
       " 'root:Host-associated:Human:Respiratory system:Pulmonary system',\n",
       " 'root:Engineered:Bioreactor:Continuous culture',\n",
       " 'root:Host-associated:Invertebrates',\n",
       " 'root',\n",
       " 'root:Engineered:Bioremediation:Hydrocarbon',\n",
       " 'root:Environmental:Aquatic:Marine:Intertidal zone:Oil-contaminated',\n",
       " 'root:Engineered:Solid waste:Composting:Bioreactor',\n",
       " 'root:Host-associated:Microbial',\n",
       " 'root:Engineered:Solid waste:Landfill']"
      ]
     },
     "execution_count": 9,
     "metadata": {},
     "output_type": "execute_result"
    }
   ],
   "source": [
    "low_freq_biomes"
   ]
  },
  {
   "cell_type": "code",
   "execution_count": 10,
   "metadata": {},
   "outputs": [
    {
     "name": "stdout",
     "output_type": "stream",
     "text": [
      "84 [1661, 20890, 1709, 1710, 3137, 6941, 7379, 7380, 7393, 7394, 7395, 7792, 13858, 13859, 13860, 13861, 14116, 45188, 45189, 14149, 14809, 62022, 62023, 14822, 14823, 14824, 14825, 14991, 16719, 16720, 16721, 16722, 17416, 18118, 19366, 20891, 37019, 60721, 23458, 33625, 23839, 41938, 41939, 41940, 25284, 25285, 25411, 34144, 25550, 51618, 62015, 25729, 64059, 28295, 28462, 56653, 56654, 33570, 35465, 45323, 36822, 36823, 36824, 36825, 37129, 40471, 40472, 42052, 42062, 42764, 42765, 43650, 55949, 55950, 63848, 45467, 45468, 51183, 55151, 55152, 57820, 59408, 62286, 63783]\n"
     ]
    }
   ],
   "source": [
    "rows_to_be_removed = []\n",
    "for biome in low_freq_biomes:\n",
    "    row_index = df.index[df['biome'] == biome].tolist()\n",
    "    rows_to_be_removed.extend(row_index)\n",
    "print(len(rows_to_be_removed), rows_to_be_removed)"
   ]
  },
  {
   "cell_type": "code",
   "execution_count": 11,
   "metadata": {},
   "outputs": [],
   "source": [
    "new_df = df.drop(rows_to_be_removed)"
   ]
  },
  {
   "cell_type": "code",
   "execution_count": 12,
   "metadata": {},
   "outputs": [],
   "source": [
    "removed_file = '../data/removed_rows_biome_freq_is_low.pickle'\n",
    "new_df.to_pickle(removed_file)"
   ]
  },
  {
   "cell_type": "code",
   "execution_count": 13,
   "metadata": {},
   "outputs": [
    {
     "data": {
      "text/plain": [
       "64519"
      ]
     },
     "execution_count": 13,
     "metadata": {},
     "output_type": "execute_result"
    }
   ],
   "source": [
    "len(new_df.loc[:, 'biome'])"
   ]
  },
  {
   "cell_type": "code",
   "execution_count": 14,
   "metadata": {},
   "outputs": [
    {
     "data": {
      "text/plain": [
       "True"
      ]
     },
     "execution_count": 14,
     "metadata": {},
     "output_type": "execute_result"
    }
   ],
   "source": [
    "'root:Engineered:Solid waste:Landfill' in low_freq_biomes"
   ]
  },
  {
   "cell_type": "markdown",
   "metadata": {},
   "source": [
    "## redo freq count on new dataset"
   ]
  },
  {
   "cell_type": "code",
   "execution_count": 15,
   "metadata": {},
   "outputs": [
    {
     "data": {
      "text/plain": [
       "{'root:Host-associated:Human:Digestive system:Large intestine:Fecal': 20343,\n",
       " 'root:Host-associated:Human:Digestive system': 4829,\n",
       " 'root:Mixed': 4174,\n",
       " 'root:Host-associated:Human:Skin': 3264,\n",
       " 'root:Environmental:Terrestrial:Soil': 3152,\n",
       " 'root:Host-associated:Human:Digestive system:Large intestine': 2458,\n",
       " 'root:Environmental:Aquatic:Marine': 2331,\n",
       " 'root:Host-associated:Plants': 1922,\n",
       " 'root:Host-associated:Human': 1401,\n",
       " 'root:Environmental:Aquatic:Marine:Oceanic': 1393,\n",
       " 'root:Host-associated:Human:Digestive system:Large intestine:Sigmoid colon': 1172,\n",
       " 'root:Host-associated:Mammals:Digestive system:Fecal': 1010,\n",
       " 'root:Host-associated:Mammals:Digestive system:Large intestine:Fecal': 981,\n",
       " 'root:Host-associated:Mammals:Digestive system': 980,\n",
       " 'root:Host-associated:Birds:Digestive system:Ceca': 753,\n",
       " 'root:Host-associated:Birds': 695,\n",
       " 'root:Host-associated:Animal:Digestive system:Fecal': 670,\n",
       " 'root:Environmental:Terrestrial:Soil:Agricultural': 629,\n",
       " 'root:Environmental:Aquatic:Freshwater:Lake': 549,\n",
       " 'root:Host-associated:Human:Digestive system:Oral:Saliva': 479,\n",
       " 'root:Host-associated:Human:Digestive system:Oral': 421,\n",
       " 'root:Engineered:Bioreactor': 401,\n",
       " 'root:Environmental:Terrestrial:Soil:Forest soil': 381,\n",
       " 'root:Environmental:Aquatic:Sediment': 376,\n",
       " 'root:Engineered:Wastewater': 346,\n",
       " 'root:Environmental:Aquatic:Marine:Pelagic': 338,\n",
       " 'root:Host-associated:Algae': 329,\n",
       " 'root:Host-associated:Human:Digestive system:Intestine': 316,\n",
       " 'root:Host-associated:Birds:Digestive system:Digestive tube:Cecum': 315,\n",
       " 'root:Environmental:Aquatic:Marine:Oceanic:Photic zone': 294,\n",
       " 'root:Host-associated:Animal': 287,\n",
       " 'root:Host-associated:Plants:Rhizosphere': 284,\n",
       " 'root:Host-associated:Mammals:Digestive system:Stomach:Rumen': 281,\n",
       " 'root:Engineered:Wastewater:Activated Sludge': 260,\n",
       " 'root:Environmental:Aquatic:Marine:Coastal:Sediment': 260,\n",
       " 'root:Engineered:Wastewater:Water and sludge': 255,\n",
       " 'root:Host-associated:Mammals': 228,\n",
       " 'root:Host-associated:Mammals:Gastrointestinal tract:Intestine:Fecal': 220,\n",
       " 'root:Environmental:Aquatic:Marine:Sediment': 213,\n",
       " 'root:Host-associated:Plants:Rhizosphere:Soil': 193,\n",
       " 'root:Host-associated:Mammals:Skin': 191,\n",
       " 'root:Host-associated:Mammals:Digestive system:Foregut:Rumen': 185,\n",
       " 'root:Environmental:Aquatic:Marine:Hydrothermal vents': 179,\n",
       " 'root:Host-associated:Insecta': 176,\n",
       " 'root:Host-associated:Birds:Digestive system': 170,\n",
       " 'root:Engineered:Food production:Dairy products': 141,\n",
       " 'root:Host-associated:Birds:Digestive system:Fecal': 134,\n",
       " 'root:Host-associated:Human:Skin:Naris': 120,\n",
       " 'root:Host-associated:Mammals:Respiratory system:Nasopharyngeal': 114,\n",
       " 'root:Environmental:Aquatic:Thermal springs:Hot (42-90C)': 114,\n",
       " 'root:Environmental:Terrestrial:Soil:Permafrost': 107,\n",
       " 'root:Engineered:Food production:Fermented beverages': 101,\n",
       " 'root:Engineered:Food production': 99,\n",
       " 'root:Host-associated:Reptile': 98,\n",
       " 'root:Engineered:Bioremediation:Terephthalate:Wastewater': 92,\n",
       " 'root:Engineered:Built environment': 92,\n",
       " 'root:Environmental:Aquatic:Freshwater:Sediment': 89,\n",
       " 'root:Environmental:Aquatic:Marine:Intertidal zone:Coral reef': 89,\n",
       " 'root:Environmental:Aquatic:Freshwater:Ice:Glacial lake': 89,\n",
       " 'root:Environmental:Aquatic:Marine:Intertidal zone:Estuary': 87,\n",
       " 'root:Engineered:Modeled:Simulated communities (microbial mixture)': 82,\n",
       " 'root:Host-associated:Human:Digestive system:Hindgut:Rectum': 82,\n",
       " 'root:Host-associated:Mammals:Digestive system:Large intestine': 78,\n",
       " 'root:Environmental:Terrestrial:Soil:Tropical rainforest': 77,\n",
       " 'root:Environmental:Terrestrial:Soil:Grasslands': 75,\n",
       " 'root:Host-associated:Plants:Phylloplane': 74,\n",
       " 'root:Host-associated:Mammals:Milk': 72,\n",
       " 'root:Environmental:Aquatic:Marine:Oceanic:Sediment': 71,\n",
       " 'root:Environmental:Aquatic:Marine:Coastal': 69,\n",
       " 'root:Environmental:Aquatic:Marine:Oil-contaminated sediment': 68,\n",
       " 'root:Host-associated:Mammals:Respiratory system': 67,\n",
       " 'root:Environmental:Aquatic:Lentic:Brackish': 62,\n",
       " 'root:Host-associated:Human:Respiratory system:Pulmonary system:Sputum': 61,\n",
       " 'root:Engineered:Solid waste:Composting': 57,\n",
       " 'root:Environmental:Terrestrial:Soil:Contaminated': 56,\n",
       " 'root:Host-associated:Human:Reproductive system:Vagina': 55,\n",
       " 'root:Environmental:Aquatic': 55,\n",
       " 'root:Environmental:Terrestrial:Agricultural field': 52,\n",
       " 'root:Environmental:Terrestrial:Geologic': 50,\n",
       " 'root:Environmental:Aquatic:Freshwater': 49,\n",
       " 'root:Environmental:Terrestrial:Soil:Loam:Agricultural': 49,\n",
       " 'root:Environmental:Aquatic:Non-marine Saline and Alkaline:Salt crystallizer pond': 46,\n",
       " 'root:Engineered:Wastewater:Industrial wastewater': 45,\n",
       " 'root:Host-associated:Arthropoda': 41,\n",
       " 'root:Environmental:Aquatic:Estuary:Sediment': 40,\n",
       " 'root:Environmental:Terrestrial:Soil:Oil-contaminated': 39,\n",
       " 'root:Host-associated:Birds:Respiratory system': 39,\n",
       " 'root:Host-associated': 36,\n",
       " 'root:Engineered': 36,\n",
       " 'root:Environmental:Aquatic:Estuary': 36,\n",
       " 'root:Environmental:Terrestrial:Soil:Wetlands': 35,\n",
       " 'root:Host-associated:Human:Respiratory system:Pulmonary system:Lung': 33,\n",
       " 'root:Environmental:Aquatic:Marine:Intertidal zone:Salt marsh': 32,\n",
       " 'root:Environmental:Terrestrial:Soil:Sand': 32,\n",
       " 'root:Environmental:Terrestrial:Soil:Desert': 31,\n",
       " 'root:Environmental:Aquatic:Lentic': 30,\n",
       " 'root:Host-associated:Porifera': 29,\n",
       " 'root:Environmental:Aquatic:Freshwater:Lentic:Sediment': 29,\n",
       " 'root:Environmental:Aquatic:Freshwater:Ice:Glacier': 29,\n",
       " 'root:Environmental:Terrestrial:Soil:Sand:Oil-contaminated': 29,\n",
       " 'root:Host-associated:Fish:Digestive system:Foregut': 28,\n",
       " 'root:Environmental:Aquatic:Freshwater:Groundwater:Acid Mine Drainage': 26,\n",
       " 'root:Environmental:Aquatic:Freshwater:Lentic': 25,\n",
       " 'root:Host-associated:Mammals:Digestive system:Midgut': 24,\n",
       " 'root:Environmental:Aquatic:Marine:Hydrothermal vents:Diffuse flow': 24,\n",
       " 'root:Environmental:Terrestrial:Soil:Clay': 24,\n",
       " 'root:Host-associated:Invertebrates:Cnidaria:Coral': 23,\n",
       " 'root:Environmental:Terrestrial:Soil:Loam:Forest soil': 23,\n",
       " 'root:Environmental:Aquatic:Freshwater:Drinking water': 22,\n",
       " 'root:Environmental:Aquatic:Freshwater:Groundwater:Contaminated': 22,\n",
       " 'root:Host-associated:Human:Circulatory system': 21,\n",
       " 'root:Environmental:Aquatic:Freshwater:Groundwater': 20,\n",
       " 'root:Engineered:Modeled:Simulated communities (sequence read mixture)': 20,\n",
       " 'root:Host-associated:Animal:Digestive system': 19,\n",
       " 'root:Environmental:Aquatic:Marine:Hydrothermal vents:Microbial mats': 19,\n",
       " 'root:Host-associated:Human:Excretory system:Urethra:Urine': 19,\n",
       " 'root:Engineered:Biogas plant:Wet fermentation': 18,\n",
       " 'root:Environmental:Terrestrial:Rock-dwelling (subaerial biofilm)': 18,\n",
       " 'root:Host-associated:Arthropoda:Digestive system:Gut': 18,\n",
       " 'root:Engineered:Lab enrichment:Defined media': 17,\n",
       " 'root:Host-associated:Birds:Digestive system:Digestive tube': 17,\n",
       " 'root:Host-associated:Plants:Rhizosphere:Forest soil': 15,\n",
       " 'root:Engineered:Modeled:Simulated communities (DNA mixture)': 15,\n",
       " 'root:Engineered:Wastewater:Industrial wastewater:Petrochemical': 15,\n",
       " 'root:Host-associated:Mammals:Nervous system:Brain': 14,\n",
       " 'root:Environmental:Aquatic:Marine:Oceanic:Aphotic zone': 14,\n",
       " 'root:Environmental:Aquatic:Marine:Intertidal zone:Sediment': 13,\n",
       " 'root:Engineered:Bioreactor:Continuous culture:Marine intertidal flat sediment inoculum': 13,\n",
       " 'root:Environmental:Aquatic:Aquaculture': 13,\n",
       " 'root:Environmental:Aquatic:Marine:Intertidal zone': 13,\n",
       " 'root:Environmental:Aquatic:Marine:Brackish': 12,\n",
       " 'root:Environmental:Aquatic:Non-marine Saline and Alkaline:Hypersaline': 12,\n",
       " 'root:Engineered:Modeled': 12,\n",
       " 'root:Environmental:Terrestrial:Soil:Loam': 12,\n",
       " 'root:Host-associated:Human:Lympathic system:Lymph nodes': 12,\n",
       " 'root:Environmental:Aquatic:Marine:Hydrothermal vents:Sediment': 12,\n",
       " 'root:Host-associated:Mammals:Gastrointestinal tract:Intestine': 12,\n",
       " 'root:Host-associated:Algae:Brown Algae': 12,\n",
       " 'root:Environmental:Aquatic:Freshwater:Lotic:Low land river systems': 11,\n",
       " 'root:Environmental:Aquatic:Freshwater:Lotic:Sediment': 9,\n",
       " 'root:Host-associated:Algae:Red algae': 9,\n",
       " 'root:Environmental:Aquatic:Marine:Oceanic:Oil-contaminated': 9,\n",
       " 'root:Environmental': 8,\n",
       " 'root:Environmental:Aquatic:Freshwater:Groundwater:Mine drainage': 8,\n",
       " 'root:Host-associated:Mammals:Digestive system:Oral cavity:Buccal mucosa': 8,\n",
       " 'root:Engineered:Biogas plant': 7,\n",
       " 'root:Environmental:Aquatic:Thermal springs:Sediment': 7,\n",
       " 'root:Host-associated:Arthropoda:Digestive system:Oral:Saliva': 7,\n",
       " 'root:Engineered:Food production:Fermented vegetables': 7,\n",
       " 'root:Environmental:Aquatic:Marine:Hydrothermal vents:Black smokers': 7,\n",
       " 'root:Host-associated:Human:Digestive system:Oral:Subgingival plaque': 7,\n",
       " 'root:Environmental:Aquatic:Freshwater:Groundwater:Cave water': 7,\n",
       " 'root:Engineered:Bioreactor:Continuous culture:Marine sediment inoculum:Wadden Sea-Germany': 7,\n",
       " 'root:Host-associated:Microbial:Bacteria': 6,\n",
       " 'root:Environmental:Aquatic:Freshwater:Pond': 6,\n",
       " 'root:Host-associated:Insecta:Digestive system': 6,\n",
       " 'root:Environmental:Aquatic:Non-marine Saline and Alkaline:Saline:Microbial mats': 6,\n",
       " 'root:Environmental:Terrestrial:Soil:Mine': 6,\n",
       " 'root:Engineered:Lab enrichment': 5,\n",
       " 'root:Engineered:Biotransformation:Mixed alcohol bioreactor': 5,\n",
       " 'root:Environmental:Aquatic:Freshwater:Pond:Sediment': 5,\n",
       " 'root:Environmental:Aquatic:Marine:Intertidal zone:Microbialites': 5,\n",
       " 'root:Host-associated:Fish:Skin': 5}"
      ]
     },
     "execution_count": 15,
     "metadata": {},
     "output_type": "execute_result"
    }
   ],
   "source": [
    "new_file = '../data/removed_rows_biome_freq_is_low.pickle'\n",
    "if os.path.exists(new_file):\n",
    "    new_df_ = pd.read_pickle(new_file)\n",
    "new_y = new_df_.loc[:, 'biome']\n",
    "new_freq = collections.Counter(new_y) \n",
    "{k: v for k, v in sorted(new_freq.items(), reverse=True, key=lambda item: item[1])}"
   ]
  },
  {
   "cell_type": "code",
   "execution_count": 16,
   "metadata": {},
   "outputs": [
    {
     "data": {
      "text/plain": [
       "64519"
      ]
     },
     "execution_count": 16,
     "metadata": {},
     "output_type": "execute_result"
    }
   ],
   "source": [
    "len(new_y)"
   ]
  },
  {
   "cell_type": "code",
   "execution_count": null,
   "metadata": {},
   "outputs": [],
   "source": []
  }
 ],
 "metadata": {
  "kernelspec": {
   "display_name": "Python 3",
   "language": "python",
   "name": "python3"
  },
  "language_info": {
   "codemirror_mode": {
    "name": "ipython",
    "version": 3
   },
   "file_extension": ".py",
   "mimetype": "text/x-python",
   "name": "python",
   "nbconvert_exporter": "python",
   "pygments_lexer": "ipython3",
   "version": "3.7.4"
  }
 },
 "nbformat": 4,
 "nbformat_minor": 4
}
