{
 "cells": [
  {
   "cell_type": "code",
   "execution_count": 1,
   "id": "595188c6-1a35-4d02-a35c-93a425c8aa21",
   "metadata": {},
   "outputs": [],
   "source": [
    "import pandas as pd\n",
    "import os\n",
    "import csv\n",
    "import numpy as np\n",
    "from scipy.stats import pearsonr\n",
    "from tqdm.notebook import tqdm"
   ]
  },
  {
   "cell_type": "code",
   "execution_count": 2,
   "id": "91193208-c546-46f2-9fa0-19ff22dd3df9",
   "metadata": {},
   "outputs": [],
   "source": [
    "## file path\n",
    "input_data_dir = '/global/cfs/cdirs/kbase/KE-Catboost/ziming/taxonomy/data'\n",
    "input_file = os.path.join(input_data_dir, 'taxonomy_v4.1','feature_transpose.tsv')\n",
    "output_file = os.path.join(input_data_dir, 'taxonomy_v4.1', 'feature_correlation.tsv')"
   ]
  },
  {
   "cell_type": "code",
   "execution_count": 3,
   "id": "3d89869b-de00-4827-b739-564591cb764b",
   "metadata": {},
   "outputs": [
    {
     "name": "stdout",
     "output_type": "stream",
     "text": [
      "['feature', '0', '1', '2', '3', '4', '5', '6', '7', '8']\n"
     ]
    },
    {
     "data": {
      "application/vnd.jupyter.widget-view+json": {
       "model_id": "9562e6b911244b0280048f09f830f401",
       "version_major": 2,
       "version_minor": 0
      },
      "text/plain": [
       "HBox(children=(IntProgress(value=0, max=20059), HTML(value='')))"
      ]
     },
     "metadata": {},
     "output_type": "display_data"
    },
    {
     "name": "stdout",
     "output_type": "stream",
     "text": [
      "\n"
     ]
    }
   ],
   "source": [
    "## ~4 min, 23GB\n",
    "## read input feature file \n",
    "X = []\n",
    "feature_name = []\n",
    "input_file_row_count = 20059\n",
    "with open(input_file, 'r') as f_in:\n",
    "    reader = csv.reader(f_in, delimiter=\"\\t\")\n",
    "    header = next(reader)\n",
    "    print(header[:10]) \n",
    "    for i in tqdm(range(input_file_row_count)):\n",
    "        row = next(reader)\n",
    "        feature_name.append(row[0])\n",
    "        X.append([float(_) for _ in row[1:]]) # skip feature name and convert str to float"
   ]
  },
  {
   "cell_type": "code",
   "execution_count": 4,
   "id": "a378c216-519d-4707-957f-1cb6efeceaae",
   "metadata": {
    "tags": []
   },
   "outputs": [
    {
     "name": "stdout",
     "output_type": "stream",
     "text": [
      "CPU times: user 40.8 s, sys: 5.58 s, total: 46.3 s\n",
      "Wall time: 46 s\n"
     ]
    }
   ],
   "source": [
    "%%time\n",
    "## Wall time: 46 s\n",
    "X = np.array(X)"
   ]
  },
  {
   "cell_type": "code",
   "execution_count": 5,
   "id": "a56f4cab-9afb-4cd3-a50d-041c7846e535",
   "metadata": {},
   "outputs": [],
   "source": [
    "def pearson_correlation_coefficient(X):\n",
    "    \"\"\"\n",
    "    calulate pearson correlation coefficient of matrix X\n",
    "    X: numpy array (MxN)\n",
    "    return pcc: numpy array (MxM)\n",
    "    \"\"\"\n",
    "    M, N = X.shape[0], X.shape[1] # number of features, number of datapoints\n",
    "    X_mean = np.mean(X, axis = 1).reshape(X.shape[0], 1)\n",
    "    X_std = np.std(X, axis = 1).reshape(X.shape[0], 1)\n",
    "    X_tilde = (X-X_mean)/X_std\n",
    "    pcc = X_tilde@X_tilde.T/N\n",
    "    return pcc"
   ]
  },
  {
   "cell_type": "code",
   "execution_count": 6,
   "id": "90c383bd-67de-4dab-b88e-c0e85553de1a",
   "metadata": {},
   "outputs": [
    {
     "name": "stdout",
     "output_type": "stream",
     "text": [
      "(20059, 20059)\n",
      "CPU times: user 5min 51s, sys: 19.8 s, total: 6min 10s\n",
      "Wall time: 3min 14s\n"
     ]
    },
    {
     "data": {
      "text/plain": [
       "array([[ 1.00000000e+00, -1.17123797e-04, -3.40458615e-04, ...,\n",
       "        -1.17123797e-04, -4.68610953e-04,  5.42070167e-02],\n",
       "       [-1.17123797e-04,  1.00000000e+00,  1.18006963e-03, ...,\n",
       "        -3.29348220e-05, -1.31771841e-04, -1.34768289e-04],\n",
       "       [-3.40458615e-04,  1.18006963e-03,  1.00000000e+00, ...,\n",
       "        -9.57358298e-05, -3.83037946e-04, -3.91748101e-04],\n",
       "       ...,\n",
       "       [-1.17123797e-04, -3.29348220e-05, -9.57358298e-05, ...,\n",
       "         1.00000000e+00, -1.31771841e-04, -1.34768289e-04],\n",
       "       [-4.68610953e-04, -1.31771841e-04, -3.83037946e-04, ...,\n",
       "        -1.31771841e-04,  1.00000000e+00, -5.39206362e-04],\n",
       "       [ 5.42070167e-02, -1.34768289e-04, -3.91748101e-04, ...,\n",
       "        -1.34768289e-04, -5.39206362e-04,  1.00000000e+00]])"
      ]
     },
     "execution_count": 6,
     "metadata": {},
     "output_type": "execute_result"
    }
   ],
   "source": [
    "%%time\n",
    "pcc_X = pearson_correlation_coefficient(X)\n",
    "print(pcc_X.shape)\n",
    "pcc_X"
   ]
  },
  {
   "cell_type": "code",
   "execution_count": 7,
   "id": "efba7481-85c8-48b7-8757-14325b0c8825",
   "metadata": {},
   "outputs": [
    {
     "name": "stdout",
     "output_type": "stream",
     "text": [
      "OK!\n"
     ]
    }
   ],
   "source": [
    "def test_pearson_correlation_coefficient():\n",
    "    \"\"\"\n",
    "    test pearson_correlation_coefficient against scipy.stats pearsonr method\n",
    "    \"\"\"\n",
    "    ## randomly generate a 3x4 array\n",
    "    test_array = np.random.rand(3,4)\n",
    "    ## my pcc value matrix\n",
    "    my_pcc = pearson_correlation_coefficient(test_array)\n",
    "    ## initilize ground truth pcc matrix\n",
    "    true_pcc = np.ones((test_array.shape[0],test_array.shape[0]))\n",
    "    ## update value by scipy.stats pearsonr method\n",
    "    for i in range(test_array.shape[0]):\n",
    "        for j in range(test_array.shape[0]):\n",
    "            if i != j:\n",
    "                p, v = pearsonr(test_array[i], test_array[j])\n",
    "                true_pcc[i][j] = p\n",
    "                true_pcc[j][i] = p\n",
    "    \n",
    "    assert (np.round(my_pcc, 5) == np.round(true_pcc, 5)).all()\n",
    "    print(\"OK!\")\n",
    "    \n",
    "    \n",
    "test_pearson_correlation_coefficient()   "
   ]
  },
  {
   "cell_type": "code",
   "execution_count": 9,
   "id": "bc92c01c-c6c2-48d1-81f4-0bb0d37ae545",
   "metadata": {},
   "outputs": [
    {
     "data": {
      "application/vnd.jupyter.widget-view+json": {
       "model_id": "99680aa2755c4e96ace61890d5da1c51",
       "version_major": 2,
       "version_minor": 0
      },
      "text/plain": [
       "HBox(children=(IntProgress(value=0, max=20059), HTML(value='')))"
      ]
     },
     "metadata": {},
     "output_type": "display_data"
    },
    {
     "name": "stdout",
     "output_type": "stream",
     "text": [
      "\n",
      "Done!\n"
     ]
    }
   ],
   "source": [
    "## write pcc matrix to a new file\n",
    "with open(output_file, 'w') as f_out:\n",
    "    writer = csv.writer(f_out, delimiter=\"\\t\")\n",
    "    writer.writerow([None] + feature_name)\n",
    "    for i in tqdm(range(len(feature_name))):\n",
    "        writer.writerow([feature_name[i]]+list(pcc_X[i]))\n",
    "print(\"Done!\")"
   ]
  },
  {
   "cell_type": "code",
   "execution_count": null,
   "id": "b39e21cf-4cfc-412d-987b-61f859783f00",
   "metadata": {},
   "outputs": [],
   "source": []
  }
 ],
 "metadata": {
  "kernelspec": {
   "display_name": "Python 3",
   "language": "python",
   "name": "python3"
  },
  "language_info": {
   "codemirror_mode": {
    "name": "ipython",
    "version": 3
   },
   "file_extension": ".py",
   "mimetype": "text/x-python",
   "name": "python",
   "nbconvert_exporter": "python",
   "pygments_lexer": "ipython3",
   "version": "3.7.4"
  }
 },
 "nbformat": 4,
 "nbformat_minor": 5
}
